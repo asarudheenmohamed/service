{
 "cells": [
  {
   "cell_type": "code",
   "execution_count": null,
   "metadata": {
    "collapsed": true
   },
   "outputs": [],
   "source": [
    "# odoo connn\n",
    "import xmlrpclib\n",
    "import datetime\n",
    "\n",
    "DEFAULT_SERVER_DATE_FORMAT = \"%Y-%m-%d\"\n",
    "DEFAULT_SERVER_TIME_FORMAT = \"%H:%M:%S\"\n",
    "DEFAULT_SERVER_DATETIME_FORMAT = \"%s %s\" % (\n",
    "    DEFAULT_SERVER_DATE_FORMAT,\n",
    "    DEFAULT_SERVER_TIME_FORMAT)\n",
    "\n",
    "username = 'admin' #the user\n",
    "pwd = 'tendercuts123'      #the password of the user\n",
    "dbname = 'tcuts'    #the database\n",
    "\n",
    "# Get the uid\n",
    "sock_common = xmlrpclib.ServerProxy ('http://localhost:8069/xmlrpc/2/common')\n",
    "uid = sock_common.login(dbname, username, pwd)\n",
    "# replace localhost with the address of the server\n",
    "sock = xmlrpclib.ServerProxy('http://localhost:8069/xmlrpc/2/object')\n"
   ]
  }
 ],
 "metadata": {
  "kernelspec": {
   "display_name": "Django Shell-Plus",
   "language": "python",
   "name": "django_extensions"
  },
  "language_info": {
   "codemirror_mode": {
    "name": "ipython",
    "version": 2
   },
   "file_extension": ".py",
   "mimetype": "text/x-python",
   "name": "python",
   "nbconvert_exporter": "python",
   "pygments_lexer": "ipython2",
   "version": "2.7.10"
  }
 },
 "nbformat": 4,
 "nbformat_minor": 2
}
