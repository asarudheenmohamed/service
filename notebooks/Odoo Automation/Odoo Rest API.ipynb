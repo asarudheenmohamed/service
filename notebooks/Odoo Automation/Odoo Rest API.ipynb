{
 "cells": [
  {
   "cell_type": "code",
   "execution_count": null,
   "metadata": {},
   "outputs": [],
   "source": [
    "import requests\n",
    "import json\n",
    "\n",
    "requests.post(\n",
    "    \"http://127.0.0.1:8071/api/login\",\n",
    "    headers={\n",
    "        'X-Openerp-Session-Id':  \"1b7b4e6794602f6447ee7fa533521eee9cc47fe8\",\n",
    "        \"content-Type\": \"application/json\", \"Access-Token\": \"1231231123\"},\n",
    "    data=json.dumps({\n",
    "        'params': {\n",
    "            'login': 'varun@tendercuts.in', \n",
    "            'password': 'qwerty123'}\n",
    "             \n",
    "        }\n",
    "    )).text"
   ]
  }
 ],
 "metadata": {
  "kernelspec": {
   "display_name": "Python 2",
   "language": "python",
   "name": "python2"
  },
  "language_info": {
   "codemirror_mode": {
    "name": "ipython",
    "version": 2
   },
   "file_extension": ".py",
   "mimetype": "text/x-python",
   "name": "python",
   "nbconvert_exporter": "python",
   "pygments_lexer": "ipython2",
   "version": "2.7.10"
  }
 },
 "nbformat": 4,
 "nbformat_minor": 2
}
