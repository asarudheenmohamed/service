{
 "cells": [
  {
   "cell_type": "markdown",
   "metadata": {},
   "source": [
    "# Fetch sales order with items"
   ]
  },
  {
   "cell_type": "code",
   "execution_count": 13,
   "metadata": {},
   "outputs": [
    {
     "name": "stderr",
     "output_type": "stream",
     "text": [
      "/Users/varunpasad/django/lib/python2.7/site-packages/django/db/models/fields/__init__.py:1451: RuntimeWarning: DateTimeField SalesFlatOrder.created_at received a naive datetime (2017-10-04 00:00:00) while time zone support is active.\n",
      "  RuntimeWarning)\n"
     ]
    }
   ],
   "source": [
    "from app.core.models import SalesFlatOrder\n",
    "import dateutil\n",
    "orders = SalesFlatOrder.objects.filter(\n",
    "    store=10,\n",
    "    status='complete',\n",
    "    increment_id__in=[]\n",
    "    created_at__range=(\n",
    "        dateutil.parser.parse(\"2017-10-03\"),\n",
    "        dateutil.parser.parse(\"2017-10-04\")))"
   ]
  },
  {
   "cell_type": "code",
   "execution_count": 8,
   "metadata": {
    "scrolled": false
   },
   "outputs": [
    {
     "name": "stdout",
     "output_type": "stream",
     "text": [
      "SF_SANKARA\n",
      "SF_SEER\n",
      "SF_SEER\n",
      "SF_SEER\n",
      "SF_MATHI\n",
      "SF_LADY_FISH\n",
      "SF_PRAWN\n",
      "SF_ANCHOVY \n",
      "SF_SEER\n",
      "SF_CATLA\n",
      "SF_KARAI_PODI\n",
      "SF_KARAI_PODI\n",
      "SF_PRAWN\n",
      "SF_SEER\n",
      "SF_BABY_SEER\n",
      "SF_SEER\n",
      "SF_FWPOMFRET\n",
      "SF_PRAWN\n",
      "SF_SANKARA\n",
      "SF_SEER_CURRY\n",
      "SF_BLUE_CRAB\n",
      "SF_ANCHOVY \n",
      "SF_BABY_SEER\n"
     ]
    }
   ],
   "source": [
    "for sale_order in orders:\n",
    "    for item in sale_order.items.all():\n",
    "        print item.sku"
   ]
  },
  {
   "cell_type": "code",
   "execution_count": 14,
   "metadata": {
    "collapsed": true
   },
   "outputs": [],
   "source": [
    "from app.core.lib import user_controller\n",
    "from app.core.lib.user_controller import CustomerSearchController\n",
    "params_data = []\n",
    "for order in orders:\n",
    "    shipping_address = order.shipping_address.all()[0]\n",
    "    user = CustomerSearchController.load_basic_info(order.customer_id)\n",
    "    params = {\n",
    "        \"increment_id\": order.increment_id, \n",
    "        \"created_at\": str(order.created_at),\n",
    "        \"total_amount\": float(order.grand_total),\n",
    "        \"subtotal_amount\": float(order.subtotal),\n",
    "        \"shipping_amount\": float(order.shipping_amount),\n",
    "        \"discount_amount\": float(order.discount_amount),\n",
    "        \"discount_description\": order.discount_description or '',\n",
    "        \"payment_method\": order.payment.all()[0].method,\n",
    "        \"medium\": order.medium,\n",
    "\n",
    "        \"customer\": {\n",
    "            \"partner_name\": order.customer_firstname,\n",
    "            \"phone\": user[2],\n",
    "            \"email\": order.customer_email\n",
    "        },\n",
    "        \"shipping_address\": {\n",
    "            \"street\": shipping_address.street,\n",
    "            \"street2\": shipping_address.region or \"\",\n",
    "            \"city\": shipping_address.city,\n",
    "        },\n",
    "        \"store\":  order.store.code\n",
    "\n",
    "    }\n",
    "\n",
    "    for item in order.items.all():\n",
    "        params.setdefault(\"product_list\", []).append({\n",
    "            \"sku\": item.sku.strip(),\n",
    "            \"ordered_qty\": float(item.qty_ordered),\n",
    "            \"weight\": float(item.weight),\n",
    "            \"unit_price\": float(item.price),\n",
    "            \"total_amount\": float(item.row_total),\n",
    "            \"discount_amount\": float(item.discount_amount or 0)\n",
    "\n",
    "        })\n",
    "    params_data.append(params)"
   ]
  },
  {
   "cell_type": "markdown",
   "metadata": {},
   "source": [
    "# Connect to odoo"
   ]
  },
  {
   "cell_type": "code",
   "execution_count": 33,
   "metadata": {
    "scrolled": true
   },
   "outputs": [
    {
     "name": "stdout",
     "output_type": "stream",
     "text": [
      "{'medium': 4L, 'discount_description': '', 'payment_method': u'cashforpos', 'total_amount': 730.35, 'discount_amount': 0.0, 'customer': {'partner_name': u'susil', 'phone': u'9244103812', 'email': u'9244103812@email.com'}, 'increment_id': u'WP271506979637417', 'created_at': '2017-10-03 02:57:17+00:00', 'shipping_amount': 0.0, 'product_list': [{'sku': u'MRT_LEMONE_CHICKEN', 'total_amount': 382.95, 'weight': 0.555, 'unit_price': 690.0, 'ordered_qty': 0.555, 'discount_amount': 0.0}, {'sku': u'MRT_MASRAS_CHICKEN_65_BONELESS', 'total_amount': 347.4, 'weight': 0.6, 'unit_price': 579.0, 'ordered_qty': 0.6, 'discount_amount': 0.0}], 'shipping_address': {'city': u'Valasaravakkam', 'street2': '', 'street': u'No - 47, Ground Floor'}, 'subtotal_amount': 730.35, 'store': u'valasaravakkam'}\n",
      "{'medium': 4L, 'discount_description': '', 'payment_method': u'cashforpos', 'total_amount': 364.27, 'discount_amount': 0.0, 'customer': {'partner_name': u'joe', 'phone': u'9884180888', 'email': u'9884180888@email.com'}, 'increment_id': u'WP271506981515216', 'created_at': '2017-10-03 03:28:35+00:00', 'shipping_amount': 0.0, 'product_list': [{'sku': u'SF_TREVLLY', 'total_amount': 364.27, 'weight': 0.73, 'unit_price': 499.0, 'ordered_qty': 0.73, 'discount_amount': 0.0}], 'shipping_address': {'city': u'Valasaravakkam', 'street2': '', 'street': u'No - 47, Ground Floor'}, 'subtotal_amount': 364.27, 'store': u'valasaravakkam'}\n",
      "{'medium': 4L, 'discount_description': '', 'payment_method': u'ccforpos', 'total_amount': 1032.93, 'discount_amount': 0.0, 'customer': {'partner_name': u'vijaya sankar', 'phone': u'7845073854', 'email': u'7845073854@email.com'}, 'increment_id': u'WP271506982112338', 'created_at': '2017-10-03 03:38:32+00:00', 'shipping_amount': 0.0, 'product_list': [{'sku': u'SF_PRAWN', 'total_amount': 1032.93, 'weight': 2.07, 'unit_price': 499.0, 'ordered_qty': 2.07, 'discount_amount': 0.0}], 'shipping_address': {'city': u'Valasaravakkam', 'street2': '', 'street': u'No - 47, Ground Floor'}, 'subtotal_amount': 1032.93, 'store': u'valasaravakkam'}\n",
      "{'medium': 4L, 'discount_description': '', 'payment_method': u'ccforpos', 'total_amount': 254.06, 'discount_amount': 0.0, 'customer': {'partner_name': u'vingani', 'phone': u'9444324320', 'email': u'9444324320@email.com'}, 'increment_id': u'WP271506985936034', 'created_at': '2017-10-03 04:42:16+00:00', 'shipping_amount': 0.0, 'product_list': [{'sku': u'MRT_MASRAS_CHICKEN_65_BONELESS', 'total_amount': 153.44, 'weight': 0.265, 'unit_price': 579.0, 'ordered_qty': 0.265, 'discount_amount': 0.0}, {'sku': u'CHK_BIRI_CUT', 'total_amount': 100.62, 'weight': 0.39, 'unit_price': 258.0, 'ordered_qty': 0.39, 'discount_amount': 0.0}], 'shipping_address': {'city': u'Valasaravakkam', 'street2': '', 'street': u'No - 47, Ground Floor'}, 'subtotal_amount': 254.06, 'store': u'valasaravakkam'}\n",
      "{'medium': 4L, 'discount_description': u'137 Tender Rewards', 'payment_method': u'ccforpos', 'total_amount': 597.38, 'discount_amount': -137.0, 'customer': {'partner_name': u'ramasubran', 'phone': u'9840322685', 'email': u'rams.murugan@gmail.com'}, 'increment_id': u'WP271506986928437', 'created_at': '2017-10-03 04:58:48+00:00', 'shipping_amount': 0.0, 'product_list': [{'sku': u'SF_BABY_SEER', 'total_amount': 734.38, 'weight': 0.865, 'unit_price': 849.0, 'ordered_qty': 0.865, 'discount_amount': 0.0}], 'shipping_address': {'city': u'Valasaravakkam', 'street2': '', 'street': u'No - 47, Ground Floor'}, 'subtotal_amount': 734.38, 'store': u'valasaravakkam'}\n",
      "{'medium': 4L, 'discount_description': '', 'payment_method': u'cashforpos', 'total_amount': 246.17, 'discount_amount': 0.0, 'customer': {'partner_name': u'prasanna ', 'phone': u'9840993331', 'email': u'9840993331@email.com'}, 'increment_id': u'WP271506987257731', 'created_at': '2017-10-03 05:04:17+00:00', 'shipping_amount': 0.0, 'product_list': [{'sku': u'CHK_WHL_SKIN_OFF', 'total_amount': 246.17, 'weight': 1.075, 'unit_price': 229.0, 'ordered_qty': 1.075, 'discount_amount': 0.0}], 'shipping_address': {'city': u'Valasaravakkam', 'street2': '', 'street': u'No - 47, Ground Floor'}, 'subtotal_amount': 246.17, 'store': u'valasaravakkam'}\n",
      "{'medium': 4L, 'discount_description': u'26 Tender Rewards', 'payment_method': u'cashforpos', 'total_amount': 373.95, 'discount_amount': -26.0, 'customer': {'partner_name': u'nisha', 'phone': u'9884481475', 'email': u'9884481475@email.com'}, 'increment_id': u'WP271506994634353', 'created_at': '2017-10-03 07:07:14+00:00', 'shipping_amount': 0.0, 'product_list': [{'sku': u'MRT_LEMONE_CHICKEN', 'total_amount': 103.5, 'weight': 0.15, 'unit_price': 690.0, 'ordered_qty': 0.15, 'discount_amount': 0.0}, {'sku': u'MRT_MALAI_CHK', 'total_amount': 113.85, 'weight': 0.165, 'unit_price': 690.0, 'ordered_qty': 0.165, 'discount_amount': 0.0}, {'sku': u'GT_REG_CURRY_CUT', 'total_amount': 182.6, 'weight': 0.295, 'unit_price': 619.0, 'ordered_qty': 0.295, 'discount_amount': 0.0}], 'shipping_address': {'city': u'Valasaravakkam', 'street2': '', 'street': u'No - 47, Ground Floor'}, 'subtotal_amount': 399.95, 'store': u'valasaravakkam'}\n",
      "{'medium': 4L, 'discount_description': '', 'payment_method': u'ccforpos', 'total_amount': 241.5, 'discount_amount': 0.0, 'customer': {'partner_name': u'melody', 'phone': u'9566237871', 'email': u'9566237871@email.com'}, 'increment_id': u'WP271506997639331', 'created_at': '2017-10-03 07:57:19+00:00', 'shipping_amount': 0.0, 'product_list': [{'sku': u'MRT_KEEMA_TIKKA', 'total_amount': 127.65, 'weight': 0.185, 'unit_price': 690.0, 'ordered_qty': 0.185, 'discount_amount': 0.0}, {'sku': u'MRT_MUGHLAI_SEEKH_KEBAB', 'total_amount': 113.85, 'weight': 0.165, 'unit_price': 690.0, 'ordered_qty': 0.165, 'discount_amount': 0.0}], 'shipping_address': {'city': u'Valasaravakkam', 'street2': '', 'street': u'No - 47, Ground Floor'}, 'subtotal_amount': 241.5, 'store': u'valasaravakkam'}\n",
      "{'medium': 4L, 'discount_description': '', 'payment_method': u'ccforpos', 'total_amount': 228.5, 'discount_amount': 0.0, 'customer': {'partner_name': u'shan ', 'phone': u'7560828956', 'email': u'7560828956@email.com'}, 'increment_id': u'WP271506999075042', 'created_at': '2017-10-03 08:21:15+00:00', 'shipping_amount': 0.0, 'product_list': [{'sku': u'MRT_MALAI_CHK', 'total_amount': 148.35, 'weight': 0.215, 'unit_price': 690.0, 'ordered_qty': 0.215, 'discount_amount': 0.0}, {'sku': u'CHK_WHL_SKIN_OFF', 'total_amount': 80.15, 'weight': 0.35, 'unit_price': 229.0, 'ordered_qty': 0.35, 'discount_amount': 0.0}], 'shipping_address': {'city': u'Valasaravakkam', 'street2': '', 'street': u'No - 47, Ground Floor'}, 'subtotal_amount': 228.5, 'store': u'valasaravakkam'}\n",
      "{'medium': 4L, 'discount_description': '', 'payment_method': u'cashforpos', 'total_amount': 138.96, 'discount_amount': 0.0, 'customer': {'partner_name': u'thilak', 'phone': u'9791552529', 'email': u'9791552529@email.com'}, 'increment_id': u'WP271506999364186', 'created_at': '2017-10-03 08:26:04+00:00', 'shipping_amount': 0.0, 'product_list': [{'sku': u'MRT_MASRAS_CHICKEN_65_BONELESS', 'total_amount': 138.96, 'weight': 0.24, 'unit_price': 579.0, 'ordered_qty': 0.24, 'discount_amount': 0.0}], 'shipping_address': {'city': u'Valasaravakkam', 'street2': '', 'street': u'No - 47, Ground Floor'}, 'subtotal_amount': 138.96, 'store': u'valasaravakkam'}\n",
      "{'medium': 4L, 'discount_description': '', 'payment_method': u'cashforpos', 'total_amount': 1223.42, 'discount_amount': 0.0, 'customer': {'partner_name': u'praveen', 'phone': u'9500099998', 'email': u'9500099998@email.com'}, 'increment_id': u'WP271507001018277', 'created_at': '2017-10-03 08:53:38+00:00', 'shipping_amount': 0.0, 'product_list': [{'sku': u'SF_SEER', 'total_amount': 869.13, 'weight': 0.87, 'unit_price': 999.0, 'ordered_qty': 0.87, 'discount_amount': 0.0}, {'sku': u'SF_PRAWN', 'total_amount': 354.29, 'weight': 0.71, 'unit_price': 499.0, 'ordered_qty': 0.71, 'discount_amount': 0.0}], 'shipping_address': {'city': u'Valasaravakkam', 'street2': '', 'street': u'No - 47, Ground Floor'}, 'subtotal_amount': 1223.42, 'store': u'valasaravakkam'}\n",
      "{'medium': 4L, 'discount_description': '', 'payment_method': u'cashforpos', 'total_amount': 892.89, 'discount_amount': 0.0, 'customer': {'partner_name': u'VALLI', 'phone': u'9884160192', 'email': u'9884160192@email.com'}, 'increment_id': u'WP271507001542627', 'created_at': '2017-10-03 09:02:22+00:00', 'shipping_amount': 0.0, 'product_list': [{'sku': u'CHK_WHL_SKIN_OFF', 'total_amount': 241.59, 'weight': 1.055, 'unit_price': 229.0, 'ordered_qty': 1.055, 'discount_amount': 0.0}, {'sku': u'MRT_PERI_PERI', 'total_amount': 351.9, 'weight': 0.51, 'unit_price': 690.0, 'ordered_qty': 0.51, 'discount_amount': 0.0}, {'sku': u'SF_PRAWN', 'total_amount': 299.4, 'weight': 0.6, 'unit_price': 499.0, 'ordered_qty': 0.6, 'discount_amount': 0.0}], 'shipping_address': {'city': u'Valasaravakkam', 'street2': '', 'street': u'No - 47, Ground Floor'}, 'subtotal_amount': 892.89, 'store': u'valasaravakkam'}\n"
     ]
    },
    {
     "name": "stdout",
     "output_type": "stream",
     "text": [
      "{'medium': 4L, 'discount_description': '', 'payment_method': u'cashforpos', 'total_amount': 139.69, 'discount_amount': 0.0, 'customer': {'partner_name': u'athafi', 'phone': u'9884690358', 'email': u'9884690358@email.com'}, 'increment_id': u'WP271507010722746', 'created_at': '2017-10-03 11:35:22+00:00', 'shipping_amount': 0.0, 'product_list': [{'sku': u'CHK_WHL_SKIN_OFF', 'total_amount': 139.69, 'weight': 0.61, 'unit_price': 229.0, 'ordered_qty': 0.61, 'discount_amount': 0.0}], 'shipping_address': {'city': u'Valasaravakkam', 'street2': '', 'street': u'No - 47, Ground Floor'}, 'subtotal_amount': 139.69, 'store': u'valasaravakkam'}\n",
      "{'medium': 4L, 'discount_description': u'30 Tender Rewards', 'payment_method': u'cashforpos', 'total_amount': 97.1, 'discount_amount': -30.0, 'customer': {'partner_name': u'Siva', 'phone': u'9894510924', 'email': u'shivpikka@gmail.com'}, 'increment_id': u'WP271507012308113', 'created_at': '2017-10-03 12:01:48+00:00', 'shipping_amount': 0.0, 'product_list': [{'sku': u'CHK_WHL_SKIN_OFF', 'total_amount': 127.1, 'weight': 0.555, 'unit_price': 229.0, 'ordered_qty': 0.555, 'discount_amount': 0.0}], 'shipping_address': {'city': u'Valasaravakkam', 'street2': '', 'street': u'No - 47, Ground Floor'}, 'subtotal_amount': 127.1, 'store': u'valasaravakkam'}\n",
      "{'medium': 4L, 'discount_description': '', 'payment_method': u'cashforpos', 'total_amount': 1570.99, 'discount_amount': 0.0, 'customer': {'partner_name': u'selva', 'phone': u'9790971688', 'email': u'9790971688@email.com'}, 'increment_id': u'WP271507013820178', 'created_at': '2017-10-03 12:27:00+00:00', 'shipping_amount': 0.0, 'product_list': [{'sku': u'GT_REG_CURRY_CUT', 'total_amount': 854.22, 'weight': 1.38, 'unit_price': 619.0, 'ordered_qty': 1.38, 'discount_amount': 0.0}, {'sku': u'CHK_WHL_SKIN_OFF', 'total_amount': 716.77, 'weight': 3.13, 'unit_price': 229.0, 'ordered_qty': 3.13, 'discount_amount': 0.0}], 'shipping_address': {'city': u'Valasaravakkam', 'street2': '', 'street': u'No - 47, Ground Floor'}, 'subtotal_amount': 1570.99, 'store': u'valasaravakkam'}\n",
      "{'medium': 4L, 'discount_description': u'38 Tender Rewards', 'payment_method': u'cashforpos', 'total_amount': 36.42, 'discount_amount': -38.0, 'customer': {'partner_name': u'selva', 'phone': u'9790971688', 'email': u'9790971688@email.com'}, 'increment_id': u'WP271507013937163', 'created_at': '2017-10-03 12:28:57+00:00', 'shipping_amount': 0.0, 'product_list': [{'sku': u'CHK_WHL_SKIN_OFF', 'total_amount': 74.42, 'weight': 0.325, 'unit_price': 229.0, 'ordered_qty': 0.325, 'discount_amount': 0.0}], 'shipping_address': {'city': u'Valasaravakkam', 'street2': '', 'street': u'No - 47, Ground Floor'}, 'subtotal_amount': 74.42, 'store': u'valasaravakkam'}\n",
      "{'medium': 4L, 'discount_description': u'54 Tender Rewards', 'payment_method': u'cashforpos', 'total_amount': 66.4, 'discount_amount': -54.0, 'customer': {'partner_name': u'vijaya sankar', 'phone': u'7845073854', 'email': u'7845073854@email.com'}, 'increment_id': u'WP271507014020170', 'created_at': '2017-10-03 12:30:20+00:00', 'shipping_amount': 0.0, 'product_list': [{'sku': u'CHK_BONELESS', 'total_amount': 120.4, 'weight': 0.28, 'unit_price': 430.0, 'ordered_qty': 0.28, 'discount_amount': 0.0}], 'shipping_address': {'city': u'Valasaravakkam', 'street2': '', 'street': u'No - 47, Ground Floor'}, 'subtotal_amount': 120.4, 'store': u'valasaravakkam'}\n",
      "{'medium': 4L, 'discount_description': u'16 Tender Rewards', 'payment_method': u'cashforpos', 'total_amount': 243.98, 'discount_amount': -16.0, 'customer': {'partner_name': u'ravi', 'phone': u'8754481106', 'email': u'8754481106@email.com'}, 'increment_id': u'WP271507015449533', 'created_at': '2017-10-03 12:54:09+00:00', 'shipping_amount': 0.0, 'product_list': [{'sku': u'GT_REG_CURRY_CUT', 'total_amount': 259.98, 'weight': 0.42, 'unit_price': 619.0, 'ordered_qty': 0.42, 'discount_amount': 0.0}], 'shipping_address': {'city': u'Valasaravakkam', 'street2': '', 'street': u'No - 47, Ground Floor'}, 'subtotal_amount': 259.98, 'store': u'valasaravakkam'}\n",
      "{'medium': 4L, 'discount_description': u'46 Tender Rewards', 'payment_method': u'cashforpos', 'total_amount': 347.99, 'discount_amount': -46.0, 'customer': {'partner_name': u'Kannan', 'phone': u'7358670440', 'email': u'deekay0705@gmail.com'}, 'increment_id': u'WP271507016274971', 'created_at': '2017-10-03 13:07:54+00:00', 'shipping_amount': 0.0, 'product_list': [{'sku': u'CHK_WHL_SKIN_OFF', 'total_amount': 239.3, 'weight': 1.045, 'unit_price': 229.0, 'ordered_qty': 1.045, 'discount_amount': 0.0}, {'sku': u'SF_PRAWN', 'total_amount': 154.69, 'weight': 0.31, 'unit_price': 499.0, 'ordered_qty': 0.31, 'discount_amount': 0.0}], 'shipping_address': {'city': u'Valasaravakkam', 'street2': '', 'street': u'No - 47, Ground Floor'}, 'subtotal_amount': 393.99, 'store': u'valasaravakkam'}\n",
      "{'medium': 4L, 'discount_description': '', 'payment_method': u'cashforpos', 'total_amount': 320.6, 'discount_amount': 0.0, 'customer': {'partner_name': u'jenisfar', 'phone': u'9841601200', 'email': u'9841601200@email.com'}, 'increment_id': u'WP271507016945427', 'created_at': '2017-10-03 13:19:05+00:00', 'shipping_amount': 0.0, 'product_list': [{'sku': u'CHK_WHL_SKIN_OFF', 'total_amount': 320.6, 'weight': 1.4, 'unit_price': 229.0, 'ordered_qty': 1.4, 'discount_amount': 0.0}], 'shipping_address': {'city': u'Valasaravakkam', 'street2': '', 'street': u'No - 47, Ground Floor'}, 'subtotal_amount': 320.6, 'store': u'valasaravakkam'}\n",
      "{'medium': 4L, 'discount_description': '', 'payment_method': u'cashforpos', 'total_amount': 132.87, 'discount_amount': 0.0, 'customer': {'partner_name': u'chinnapparaj', 'phone': u'9884918826', 'email': u'9884918826@email.com'}, 'increment_id': u'WP271507017823004', 'created_at': '2017-10-03 13:33:43+00:00', 'shipping_amount': 0.0, 'product_list': [{'sku': u'SF_MATHI', 'total_amount': 132.87, 'weight': 1.03, 'unit_price': 129.0, 'ordered_qty': 1.03, 'discount_amount': 0.0}], 'shipping_address': {'city': u'Valasaravakkam', 'street2': '', 'street': u'No - 47, Ground Floor'}, 'subtotal_amount': 132.87, 'store': u'valasaravakkam'}\n",
      "{'medium': 4L, 'discount_description': '', 'payment_method': u'ccforpos', 'total_amount': 130.84, 'discount_amount': 0.0, 'customer': {'partner_name': u'Nikitha', 'phone': u'9810528113', 'email': u'nikitha.prasuja@gmail.com'}, 'increment_id': u'WP271507017969916', 'created_at': '2017-10-03 13:36:09+00:00', 'shipping_amount': 0.0, 'product_list': [{'sku': u'CHK_BR_BONELESS', 'total_amount': 130.84, 'weight': 0.305, 'unit_price': 429.0, 'ordered_qty': 0.305, 'discount_amount': 0.0}], 'shipping_address': {'city': u'Valasaravakkam', 'street2': '', 'street': u'No - 47, Ground Floor'}, 'subtotal_amount': 130.84, 'store': u'valasaravakkam'}\n",
      "{'medium': 4L, 'discount_description': '', 'payment_method': u'ccforpos', 'total_amount': 830.94, 'discount_amount': 0.0, 'customer': {'partner_name': u'arun', 'phone': u'9003178309', 'email': u'9003178309@email.com'}, 'increment_id': u'WP271507018145925', 'created_at': '2017-10-03 13:39:05+00:00', 'shipping_amount': 0.0, 'product_list': [{'sku': u'SF_KARAI_PODI', 'total_amount': 397.95, 'weight': 1.05, 'unit_price': 379.0, 'ordered_qty': 1.05, 'discount_amount': 0.0}, {'sku': u'SF_BABY_SEER', 'total_amount': 432.99, 'weight': 0.51, 'unit_price': 849.0, 'ordered_qty': 0.51, 'discount_amount': 0.0}], 'shipping_address': {'city': u'Valasaravakkam', 'street2': '', 'street': u'No - 47, Ground Floor'}, 'subtotal_amount': 830.94, 'store': u'valasaravakkam'}\n",
      "{'medium': 4L, 'discount_description': '', 'payment_method': u'cashforpos', 'total_amount': 443.53, 'discount_amount': 0.0, 'customer': {'partner_name': u'kanchan', 'phone': u'9423252587', 'email': u'9423252587@email.com'}, 'increment_id': u'WP271507019746741', 'created_at': '2017-10-03 14:05:46+00:00', 'shipping_amount': 0.0, 'product_list': [{'sku': u'MRT_MUGHLAI_SEEKH_KEBAB', 'total_amount': 86.25, 'weight': 0.125, 'unit_price': 690.0, 'ordered_qty': 0.125, 'discount_amount': 0.0}, {'sku': u'CHK_DRM_SKIN_OFF', 'total_amount': 357.28, 'weight': 1.12, 'unit_price': 319.0, 'ordered_qty': 1.12, 'discount_amount': 0.0}], 'shipping_address': {'city': u'Valasaravakkam', 'street2': '', 'street': u'No - 47, Ground Floor'}, 'subtotal_amount': 443.53, 'store': u'valasaravakkam'}\n"
     ]
    },
    {
     "name": "stdout",
     "output_type": "stream",
     "text": [
      "{'medium': 4L, 'discount_description': '', 'payment_method': u'cashforpos', 'total_amount': 59.54, 'discount_amount': 0.0, 'customer': {'partner_name': u'sakshi', 'phone': u'9971038869', 'email': u'9971038869@email.com'}, 'increment_id': u'WP271507020049725', 'created_at': '2017-10-03 14:10:49+00:00', 'shipping_amount': 0.0, 'product_list': [{'sku': u'CHK_WHL_SKIN_OFF', 'total_amount': 59.54, 'weight': 0.26, 'unit_price': 229.0, 'ordered_qty': 0.26, 'discount_amount': 0.0}], 'shipping_address': {'city': u'Valasaravakkam', 'street2': '', 'street': u'No - 47, Ground Floor'}, 'subtotal_amount': 59.54, 'store': u'valasaravakkam'}\n",
      "{'medium': 4L, 'discount_description': '', 'payment_method': u'cashforpos', 'total_amount': 278.95, 'discount_amount': 0.0, 'customer': {'partner_name': u'Sarankumar', 'phone': u'9941120620', 'email': u'sarankumarpm@gmail.com'}, 'increment_id': u'WP271507022940447', 'created_at': '2017-10-03 14:59:00+00:00', 'shipping_amount': 0.0, 'product_list': [{'sku': u'MRT_MALAI_CHK', 'total_amount': 72.45, 'weight': 0.105, 'unit_price': 690.0, 'ordered_qty': 0.105, 'discount_amount': 0.0}, {'sku': u'MRT_CHILLI_GARLIC', 'total_amount': 71.39, 'weight': 0.11, 'unit_price': 649.0, 'ordered_qty': 0.11, 'discount_amount': 0.0}, {'sku': u'CHK_WHL_SKIN_OFF', 'total_amount': 135.11, 'weight': 0.59, 'unit_price': 229.0, 'ordered_qty': 0.59, 'discount_amount': 0.0}], 'shipping_address': {'city': u'Valasaravakkam', 'street2': '', 'street': u'No - 47, Ground Floor'}, 'subtotal_amount': 278.95, 'store': u'valasaravakkam'}\n",
      "{'medium': 4L, 'discount_description': '', 'payment_method': u'ccforpos', 'total_amount': 244.95, 'discount_amount': 0.0, 'customer': {'partner_name': u'suthakar', 'phone': u'9677144566', 'email': u'9677144566@email.com'}, 'increment_id': u'WP271507023821591', 'created_at': '2017-10-03 15:13:41+00:00', 'shipping_amount': 0.0, 'product_list': [{'sku': u'MRT_MUGHLAI_SEEKH_KEBAB', 'total_amount': 27.6, 'weight': 0.04, 'unit_price': 690.0, 'ordered_qty': 0.04, 'discount_amount': 0.0}, {'sku': u'MRT_SMK_CHK_TND', 'total_amount': 55.2, 'weight': 0.08, 'unit_price': 690.0, 'ordered_qty': 0.08, 'discount_amount': 0.0}, {'sku': u'MRT_SCHEZWAN_LOLLIPOP', 'total_amount': 110.4, 'weight': 0.16, 'unit_price': 690.0, 'ordered_qty': 0.16, 'discount_amount': 0.0}, {'sku': u'MRT_LEMONE_CHICKEN', 'total_amount': 51.75, 'weight': 0.075, 'unit_price': 690.0, 'ordered_qty': 0.075, 'discount_amount': 0.0}], 'shipping_address': {'city': u'Valasaravakkam', 'street2': '', 'street': u'No - 47, Ground Floor'}, 'subtotal_amount': 244.95, 'store': u'valasaravakkam'}\n",
      "{'medium': 4L, 'discount_description': '', 'payment_method': u'cashforpos', 'total_amount': 181.59, 'discount_amount': 0.0, 'customer': {'partner_name': u'senthil ', 'phone': u'9600110256', 'email': u'9600110256@email.com'}, 'increment_id': u'WP271507024668912', 'created_at': '2017-10-03 15:27:48+00:00', 'shipping_amount': 0.0, 'product_list': [{'sku': u'MRT_CLASSIC_BBQ_WINGS', 'total_amount': 57.39, 'weight': 0.115, 'unit_price': 499.0, 'ordered_qty': 0.115, 'discount_amount': 0.0}, {'sku': u'MRT_MUGHLAI_SEEKH_KEBAB', 'total_amount': 124.2, 'weight': 0.18, 'unit_price': 690.0, 'ordered_qty': 0.18, 'discount_amount': 0.0}], 'shipping_address': {'city': u'Valasaravakkam', 'street2': '', 'street': u'No - 47, Ground Floor'}, 'subtotal_amount': 181.59, 'store': u'valasaravakkam'}\n"
     ]
    }
   ],
   "source": [
    "import xmlrpclib\n",
    "import json\n",
    "\n",
    "username = 'varun@tendercuts.in' #the user\n",
    "pwd = 'qwerty123'      #the password of the user\n",
    "dbname = 'tcuts'    #the database\n",
    "\n",
    "\n",
    "# Get the uid\n",
    "sock_common = xmlrpclib.ServerProxy ('http://localhost:8069/xmlrpc/common')\n",
    "uid = sock_common.login(dbname, username, pwd)\n",
    "\n",
    "# replace localhost with the address of the server\n",
    "sock = xmlrpclib.ServerProxy('http://localhost:8069/xmlrpc/object')\n",
    "\n",
    "\n",
    "for param in params_data:\n",
    "    result = sock.execute_kw(\n",
    "        dbname,\n",
    "        uid,\n",
    "        pwd,\n",
    "        'tcuts.sync.record',\n",
    "        'create',\n",
    "        [{\n",
    "            \"increment_id\": param['increment_id'],\n",
    "            \"payload\": json.dumps(param)\n",
    "        }]\n",
    "        )\n",
    "    print (param)\n",
    "    result = sock.execute_kw( dbname, uid, pwd,\n",
    "        'tcuts.sync.record', 'action_sync',\n",
    "        [[result]])"
   ]
  },
  {
   "cell_type": "code",
   "execution_count": 37,
   "metadata": {
    "collapsed": true
   },
   "outputs": [],
   "source": [
    "import xmlrpclib\n",
    "import json\n",
    "\n",
    "username = 'varun@tendercuts.in' #the user\n",
    "pwd = 'qwerty123'      #the password of the user\n",
    "dbname = 'tcuts'    #the database\n",
    "\n",
    "\n",
    "# Get the uid\n",
    "sock_common = xmlrpclib.ServerProxy ('http://localhost:8069/xmlrpc/common')\n",
    "uid = sock_common.login(dbname, username, pwd)\n",
    "\n",
    "# replace localhost with the address of the server\n",
    "sock = xmlrpclib.ServerProxy('http://localhost:8069/xmlrpc/object')\n",
    "result = sock.execute_kw(\n",
    "    dbname,\n",
    "    uid,\n",
    "    pwd,\n",
    "    'stock.picking',\n",
    "    'create',\n",
    "    [{\n",
    "#         'name': \"Test order\",\n",
    "        'picking_type_id': 11,\n",
    "        'location_id': 22,\n",
    "        'location_dest_id': 23,\n",
    "        'min_date': '2017-10-23'\n",
    "    }])"
   ]
  }
 ],
 "metadata": {
  "kernelspec": {
   "display_name": "Django Shell-Plus",
   "language": "python",
   "name": "django_extensions"
  },
  "language_info": {
   "codemirror_mode": {
    "name": "ipython",
    "version": 2
   },
   "file_extension": ".py",
   "mimetype": "text/x-python",
   "name": "python",
   "nbconvert_exporter": "python",
   "pygments_lexer": "ipython2",
   "version": "2.7.10"
  }
 },
 "nbformat": 4,
 "nbformat_minor": 2
}
