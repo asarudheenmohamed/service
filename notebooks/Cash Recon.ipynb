{
 "cells": [
  {
   "cell_type": "code",
   "execution_count": 2,
   "metadata": {
    "collapsed": true
   },
   "outputs": [],
   "source": [
    "import requests\n",
    "from bs4 import BeautifulSoup\n",
    "\n",
    "url = \"http://partner.bigbasket.com/partner/login/\"\n",
    "sess = requests.Session()\n",
    "resp = sess.get(url)\n",
    "\n",
    "soup = BeautifulSoup(resp.text, \"html.parser\")\n",
    "element = soup.findAll(\"input\", {\"name\": \"csrfmiddlewaretoken\"})\n",
    "csrf_token = element[0].get('value')\n",
    "\n",
    "data = {\n",
    "    \"csrfmiddlewaretoken\": csrf_token,\n",
    "    \"entityname\" : 5,\n",
    "    \"password\": \"tendercuts@bigbasket\",\n",
    "    \"username\": \"gfmretailpvtltd@gmail.com\",\n",
    "    \"Submit\": \"LOG IN\"\n",
    "}\n",
    "\n",
    "resp = sess.post(url, data)\n",
    "\n",
    "# navigate to dashbaord\n",
    "url = \"http://partner.bigbasket.com/partner/dashboard/sp_reports/\"\n",
    "resp = sess.get(url)\n",
    "\n",
    "soup = BeautifulSoup(resp.text, \"html.parser\")\n",
    "element = soup.findAll(\"input\", {\"name\": \"csrfmiddlewaretoken\"})\n",
    "csrf_token = element[0].get('value')\n",
    "\n",
    "data = {\n",
    "    \"csrfmiddlewaretoken\": csrf_token,\n",
    "    \"date_from\": \"14/02/2018\",\n",
    "    \"date_to\": \"15/02/2018\",\n",
    "    \"report\": 4,\n",
    "    \"store\": 3256\n",
    "}\n",
    "\n",
    "headers = {\n",
    "    \"Content-Type\": \"application/x-www-form-urlencoded\"\n",
    "}\n",
    "\n",
    "resp = sess.post(url, data, headers=headers)"
   ]
  },
  {
   "cell_type": "code",
   "execution_count": 14,
   "metadata": {
    "scrolled": false
   },
   "outputs": [
    {
     "data": {
      "text/plain": [
       "{u'Tendercuts Adyar': 2906.0,\n",
       " u'Tendercuts Tambaram': 1168.0,\n",
       " u'Tendercuts Thoraipakkam': 1265.0,\n",
       " u'Tendercuts Virugambakkam': 3847.0,\n",
       " u'Tendercuts- Medavakkam': 757.0,\n",
       " u'Tendercuts- Mogappair': 458.0,\n",
       " u'Tendercuts- Velachery': 1161.0}"
      ]
     },
     "execution_count": 14,
     "metadata": {},
     "output_type": "execute_result"
    }
   ],
   "source": [
    "import pandas as pd\n",
    "from StringIO import StringIO\n",
    "df = pd.read_excel(StringIO(resp.content))\n",
    "df = df.groupby(\"Store Name\").sum()\n",
    "df['Order Value'].to_dict()\n"
   ]
  },
  {
   "cell_type": "code",
   "execution_count": 23,
   "metadata": {},
   "outputs": [
    {
     "name": "stdout",
     "output_type": "stream",
     "text": [
      "['TID', '[4161417M]', 'Sub-Total', '777.16', '16.32', '0.00', '760.84']\n",
      "['TID', '[4161517M]', 'Sub-Total', '7204.94', '72.99', '8.87', '7123.08']\n",
      "['TID', '[4161617M]', 'Sub-Total', '3690.26', '31.67', '0.00', '3658.59']\n",
      "['TID', '[4162017M]', 'Sub-Total', '2998.18', '18.73', '0.00', '2979.45']\n",
      "['TID', '[4162217M]', 'Sub-Total', '1329.78', '13.09', '0.00', '1316.69']\n",
      "['TID', '[4162517M]', 'Sub-Total', '670.95', '10.06', '0.00', '660.89']\n",
      "['TID', '[4162617M]', 'Sub-Total', '5354.77', '25.69', '0.00', '5329.08']\n"
     ]
    }
   ],
   "source": [
    "# ./Cellar/poppler/0.62.0/bin/pdftotext -layout  ~/Desktop/13.02.2018.pdf ~/abc.txt\n",
    "import PyPDF2\n",
    "import pandas as pd\n",
    "import re\n",
    "with open(\"/Users/varunpasad/abc.txt\", \"rb\") as fh:\n",
    "    data = fh.read()\n",
    "#     df = pd.read_table(fh, skiprows=[0, 1, 2, 3, 4, 5, 6], sep=\"\\t\")\n",
    "rows = re.findall(r'TID \\[.*\\].*\\n', data)\n",
    "for row in rows:\n",
    "    components = row.split()\n",
    "    card_id, total = components[1], components[3]\n",
    "    \n",
    "    \n",
    "    \n",
    "    \n",
    "    "
   ]
  }
 ],
 "metadata": {
  "kernelspec": {
   "display_name": "Python 2",
   "language": "python",
   "name": "python2"
  },
  "language_info": {
   "codemirror_mode": {
    "name": "ipython",
    "version": 2
   },
   "file_extension": ".py",
   "mimetype": "text/x-python",
   "name": "python",
   "nbconvert_exporter": "python",
   "pygments_lexer": "ipython2",
   "version": "2.7.10"
  }
 },
 "nbformat": 4,
 "nbformat_minor": 2
}
