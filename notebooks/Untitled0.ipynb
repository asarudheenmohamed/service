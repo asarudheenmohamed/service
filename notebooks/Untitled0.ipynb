{
 "cells": [
  {
   "cell_type": "code",
   "execution_count": 3,
   "metadata": {},
   "outputs": [],
   "source": [
    "import pandas as pd\n",
    "import django\n",
    "django.setup??\n",
    "#from app.core.models import CoreStore, AitocCataloginventoryStockItem"
   ]
  },
  {
   "cell_type": "code",
   "execution_count": null,
   "metadata": {},
   "outputs": [],
   "source": [
    "df = pd.read_excel(\n",
    "    \"/Users/varunpasad/Desktop/test.xlsx\",\n",
    "    skiprows=[0,1, 2, 3],\n",
    ")\n",
    "\n",
    "df = df.fillna(0)\n",
    "\n",
    "# Ignore all row with now PID\n",
    "# and format it and set it as index\n",
    "df = df[df.PID != 0]\n",
    "df.PID = df.PID.astype(int)\n",
    "df = df.set_index(\"PID\")\n",
    "\n",
    "# Drop useless columns\n",
    "ignore_cols = [\"PRODUCT\", \"UNITS\", \"SKU WT\", \"Unnamed: 4\"]\n",
    "df.drop(ignore_cols, axis=1, inplace=True)\n",
    "\n",
    "    \n"
   ]
  },
  {
   "cell_type": "code",
   "execution_count": null,
   "metadata": {},
   "outputs": [],
   "source": [
    "df"
   ]
  },
  {
   "cell_type": "code",
   "execution_count": null,
   "metadata": {},
   "outputs": [],
   "source": [
    "store_cache = {store.website_id: store for store in CoreStore.objects.all()}\n",
    "inventories = AitocCataloginventoryStockItem.objects.all().select_related('product')\n",
    "\n",
    "df = df.astype(int)\n",
    "for inventory in inventories:\n",
    "#     inventory.qty = df[inventory.product, ]\n",
    "    try:\n",
    "        store = store_cache[inventory.website_id]\n",
    "        qty = df.ix[inventory.product.entity_id, store.name]\n",
    "        closing = df.ix[inventory.product.entity_id, store.name + \".1\"]\n",
    "        inventory.qty = qty + closing\n",
    "        inventory.save()\n",
    "    except KeyError as e:\n",
    "        print (\"No inv found for {} for {}\".format(inventory.product.sku, store.name))\n",
    "\n",
    "\n",
    "# for store_name in stores:\n",
    "#     store = store_objs.filter(name=store_name.lower())\n",
    "\n",
    "#     if not store:\n",
    "#         print (\"Cant find store for {}\".format(store_name))\n",
    "#     print store.name\n",
    "    \n",
    "    \n",
    "\n",
    "# for store in stores:\n",
    "#     processed = df[store].astype(int)\n",
    "#     closing = df[store + '.1'].astype(int)\n",
    "#     total = processed + closing\n",
    "    "
   ]
  },
  {
   "cell_type": "code",
   "execution_count": null,
   "metadata": {},
   "outputs": [],
   "source": [
    "def print_row(row):\n",
    "    print (row)\n",
    "    print (\"====\")\n",
    "\n",
    "xx = df['Adyar']\n",
    "for product_id, qty in xx.iteritems():\n",
    "    print product_id, qty\n",
    "    \n",
    "class InvetoryProcess():"
   ]
  },
  {
   "cell_type": "code",
   "execution_count": 52,
   "metadata": {},
   "outputs": [
    {
     "data": {
      "text/plain": [
       "u'payubiz'"
      ]
     },
     "execution_count": 52,
     "metadata": {},
     "output_type": "execute_result"
    }
   ],
   "source": [
    "import datetime\n",
    "import pytz\n",
    "from app.core import models as core_models\n",
    "end =  datetime.datetime.now(tz=pytz.timezone('Asia/Kolkata'))\n",
    "start = end - datetime.timedelta(seconds=30*60)\n",
    "\n",
    "order = core_models.SalesFlatOrder.objects.filter(\n",
    "    status='pending_payment',\n",
    "    created_at__range=[start, end]\n",
    ").prefetch_related('tpayment')[0]\n",
    "\n",
    "order.payment.first().method"
   ]
  },
  {
   "cell_type": "code",
   "execution_count": 3,
   "metadata": {},
   "outputs": [],
   "source": [
    "import magento\n",
    "\n",
    "api = magento.MagentoAPI(\n",
    "    \"localhost\",\n",
    "    80,\n",
    "    \"admin\",\n",
    "    \"Tendercuts123!\",\n",
    "    path=\"/tendercuts-site/index.php/api/xmlrpc/\",\n",
    "    allow_none=True,\n",
    "    proto=\"http\")\n"
   ]
  },
  {
   "cell_type": "code",
   "execution_count": 29,
   "metadata": {},
   "outputs": [
    {
     "data": {
      "text/plain": [
       "True"
      ]
     },
     "execution_count": 29,
     "metadata": {},
     "output_type": "execute_result"
    }
   ],
   "source": [
    "api.catalog_product.update(\n",
    "    \"200\",\n",
    "    {'price': \"198\"},\n",
    "    \"1\", \n",
    "     \"ID\"\n",
    ")"
   ]
  },
  {
   "cell_type": "code",
   "execution_count": null,
   "metadata": {},
   "outputs": [],
   "source": [
    "\n"
   ]
  }
 ],
 "metadata": {
  "kernelspec": {
   "display_name": "Python 2",
   "language": "python",
   "name": "python2"
  },
  "language_info": {
   "codemirror_mode": {
    "name": "ipython",
    "version": 2
   },
   "file_extension": ".py",
   "mimetype": "text/x-python",
   "name": "python",
   "nbconvert_exporter": "python",
   "pygments_lexer": "ipython2",
   "version": "2.7.10"
  }
 },
 "nbformat": 4,
 "nbformat_minor": 1
}
