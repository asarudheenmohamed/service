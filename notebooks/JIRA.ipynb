{
 "cells": [
  {
   "cell_type": "code",
   "execution_count": 44,
   "metadata": {},
   "outputs": [
    {
     "name": "stdout",
     "output_type": "stream",
     "text": [
      "{'fields': {'project': {'key': 'TCUTS'}, 'issuetype': {'name': 'Epic'}, 'customfield_10005': 'S9SL', 'customfield_10010': 12, 'summary': 'S9SL - release'}}\n",
      "{'cookies': <RequestsCookieJar[Cookie(version=0, name='atlassian.xsrf.token', value='6d5d5220-9b7c-4a94-8b70-111200e40af1|1e70f80e25925cc97586bf62edda27fed2c18efa|lin', port=None, port_specified=False, domain='tendercuts.atlassian.net', domain_specified=False, domain_initial_dot=False, path='/', path_specified=True, secure=True, expires=None, discard=True, comment=None, comment_url=None, rest={}, rfc2109=False)]>, '_content': '{\"id\":\"10940\",\"key\":\"TCUTS-894\",\"self\":\"https://tendercuts.atlassian.net/rest/api/2/issue/10940\"}', 'headers': {'X-AUSERNAME': 'admin', 'X-AREQUESTID': '52a25e41-288b-40dc-b682-1074de1abe61', 'ATL-vTM-Queue-Time': '0', 'X-Content-Type-Options': 'nosniff', 'ATL-vTM-Backend-Time': '666', 'ATL-vTM-Time': '1005', 'X-Seraph-LoginReason': 'OK', 'Strict-Transport-Security': 'max-age=315360000; includeSubDomains; preload', 'Server': 'Atlassian Proxy/0.1.151', 'transfer-encoding': 'chunked', 'Connection': 'keep-alive', 'Set-Cookie': 'atlassian.xsrf.token=6d5d5220-9b7c-4a94-8b70-111200e40af1|1e70f80e25925cc97586bf62edda27fed2c18efa|lin; Path=/; Secure', 'Cache-Control': 'no-cache, no-store, no-transform', 'Date': 'Mon, 27 Nov 2017 08:51:52 GMT', 'Content-Type': 'application/json;charset=UTF-8'}, 'url': u'https://tendercuts.atlassian.net/rest/api/2/issue/', 'status_code': 201, '_content_consumed': True, 'encoding': 'UTF-8', 'request': <PreparedRequest [POST]>, 'connection': <requests.adapters.HTTPAdapter object at 0x10c629e90>, 'elapsed': datetime.timedelta(0, 2, 857833), 'raw': <urllib3.response.HTTPResponse object at 0x10c62ddd0>, 'reason': 'Created', '_next': None, 'history': []}\n",
      "{'fields': {'project': {'key': 'TCUTS'}, 'issuetype': {'name': 'Epic'}, 'customfield_10005': 'S9DR', 'customfield_10010': 12, 'summary': 'S9DR - release'}}\n",
      "{'cookies': <RequestsCookieJar[Cookie(version=0, name='atlassian.xsrf.token', value='6d5d5220-9b7c-4a94-8b70-111200e40af1|33b77538748097772d9bd3a3176a3d23e1e51678|lin', port=None, port_specified=False, domain='tendercuts.atlassian.net', domain_specified=False, domain_initial_dot=False, path='/', path_specified=True, secure=True, expires=None, discard=True, comment=None, comment_url=None, rest={}, rfc2109=False)]>, '_content': '{\"id\":\"10941\",\"key\":\"TCUTS-895\",\"self\":\"https://tendercuts.atlassian.net/rest/api/2/issue/10941\"}', 'headers': {'X-AUSERNAME': 'admin', 'X-AREQUESTID': 'df28dfe0-e571-4558-8a4f-5538dec5617e', 'ATL-vTM-Queue-Time': '0', 'X-Content-Type-Options': 'nosniff', 'ATL-vTM-Backend-Time': '786', 'ATL-vTM-Time': '1132', 'X-Seraph-LoginReason': 'OK', 'Strict-Transport-Security': 'max-age=315360000; includeSubDomains; preload', 'Server': 'Atlassian Proxy/0.1.151', 'transfer-encoding': 'chunked', 'Connection': 'keep-alive', 'Set-Cookie': 'atlassian.xsrf.token=6d5d5220-9b7c-4a94-8b70-111200e40af1|33b77538748097772d9bd3a3176a3d23e1e51678|lin; Path=/; Secure', 'Cache-Control': 'no-cache, no-store, no-transform', 'Date': 'Mon, 27 Nov 2017 08:51:54 GMT', 'Content-Type': 'application/json;charset=UTF-8'}, 'url': u'https://tendercuts.atlassian.net/rest/api/2/issue/', 'status_code': 201, '_content_consumed': True, 'encoding': 'UTF-8', 'request': <PreparedRequest [POST]>, 'connection': <requests.adapters.HTTPAdapter object at 0x10c629710>, 'elapsed': datetime.timedelta(0, 2, 348427), 'raw': <urllib3.response.HTTPResponse object at 0x10c63bb90>, 'reason': 'Created', '_next': None, 'history': []}\n",
      "{'fields': {'project': {'key': 'TCUTS'}, 'issuetype': {'name': 'Epic'}, 'customfield_10005': 'S9MO', 'customfield_10010': 12, 'summary': 'S9MO - release'}}\n",
      "{'cookies': <RequestsCookieJar[Cookie(version=0, name='atlassian.xsrf.token', value='6d5d5220-9b7c-4a94-8b70-111200e40af1|75a4605ed0b6224bb1254c8be9171af8a73d75e5|lin', port=None, port_specified=False, domain='tendercuts.atlassian.net', domain_specified=False, domain_initial_dot=False, path='/', path_specified=True, secure=True, expires=None, discard=True, comment=None, comment_url=None, rest={}, rfc2109=False)]>, '_content': '{\"id\":\"10942\",\"key\":\"TCUTS-896\",\"self\":\"https://tendercuts.atlassian.net/rest/api/2/issue/10942\"}', 'headers': {'X-AUSERNAME': 'admin', 'X-AREQUESTID': '6f06dcd9-b4d1-49d3-8731-f57c36e37500', 'ATL-vTM-Queue-Time': '0', 'X-Content-Type-Options': 'nosniff', 'ATL-vTM-Backend-Time': '651', 'ATL-vTM-Time': '1162', 'X-Seraph-LoginReason': 'OK', 'Strict-Transport-Security': 'max-age=315360000; includeSubDomains; preload', 'Server': 'Atlassian Proxy/0.1.151', 'transfer-encoding': 'chunked', 'Connection': 'keep-alive', 'Set-Cookie': 'atlassian.xsrf.token=6d5d5220-9b7c-4a94-8b70-111200e40af1|75a4605ed0b6224bb1254c8be9171af8a73d75e5|lin; Path=/; Secure', 'Cache-Control': 'no-cache, no-store, no-transform', 'Date': 'Mon, 27 Nov 2017 08:51:57 GMT', 'Content-Type': 'application/json;charset=UTF-8'}, 'url': u'https://tendercuts.atlassian.net/rest/api/2/issue/', 'status_code': 201, '_content_consumed': True, 'encoding': 'UTF-8', 'request': <PreparedRequest [POST]>, 'connection': <requests.adapters.HTTPAdapter object at 0x10c62dfd0>, 'elapsed': datetime.timedelta(0, 2, 442390), 'raw': <urllib3.response.HTTPResponse object at 0x10b53a1d0>, 'reason': 'Created', '_next': None, 'history': []}\n",
      "{'fields': {'project': {'key': 'TCUTS'}, 'issuetype': {'name': 'Epic'}, 'customfield_10005': 'S9WE', 'customfield_10010': 12, 'summary': 'S9WE - release'}}\n",
      "{'cookies': <RequestsCookieJar[Cookie(version=0, name='atlassian.xsrf.token', value='6d5d5220-9b7c-4a94-8b70-111200e40af1|ef4e4b230c0a252384a21c0be0b02a30b9982307|lin', port=None, port_specified=False, domain='tendercuts.atlassian.net', domain_specified=False, domain_initial_dot=False, path='/', path_specified=True, secure=True, expires=None, discard=True, comment=None, comment_url=None, rest={}, rfc2109=False)]>, '_content': '{\"id\":\"10943\",\"key\":\"TCUTS-897\",\"self\":\"https://tendercuts.atlassian.net/rest/api/2/issue/10943\"}', 'headers': {'X-AUSERNAME': 'admin', 'X-AREQUESTID': '0373f1a2-4cb2-46d1-bf4b-80064271153e', 'ATL-vTM-Queue-Time': '0', 'X-Content-Type-Options': 'nosniff', 'ATL-vTM-Backend-Time': '621', 'ATL-vTM-Time': '1077', 'X-Seraph-LoginReason': 'OK', 'Strict-Transport-Security': 'max-age=315360000; includeSubDomains; preload', 'Server': 'Atlassian Proxy/0.1.151', 'transfer-encoding': 'chunked', 'Connection': 'keep-alive', 'Set-Cookie': 'atlassian.xsrf.token=6d5d5220-9b7c-4a94-8b70-111200e40af1|ef4e4b230c0a252384a21c0be0b02a30b9982307|lin; Path=/; Secure', 'Cache-Control': 'no-cache, no-store, no-transform', 'Date': 'Mon, 27 Nov 2017 08:51:59 GMT', 'Content-Type': 'application/json;charset=UTF-8'}, 'url': u'https://tendercuts.atlassian.net/rest/api/2/issue/', 'status_code': 201, '_content_consumed': True, 'encoding': 'UTF-8', 'request': <PreparedRequest [POST]>, 'connection': <requests.adapters.HTTPAdapter object at 0x10c629e90>, 'elapsed': datetime.timedelta(0, 2, 510997), 'raw': <urllib3.response.HTTPResponse object at 0x10c63bad0>, 'reason': 'Created', '_next': None, 'history': []}\n"
     ]
    }
   ],
   "source": [
    "import requests\n",
    "import json\n",
    "import collections\n",
    "\n",
    "APPS = [\"SL\", \"DR\", \"MO\", \"WE\"]\n",
    "EPIC = collections.namedtuple('EPIC', 'name summary sprint')\n",
    "\n",
    "EPIC_TEMPLATE = {\n",
    "    'fields': {\n",
    "       \"project\":\n",
    "       { \n",
    "          \"key\": \"TCUTS\"\n",
    "       },\n",
    "       \"customfield_10005\": {},  # epic name\n",
    "       \"customfield_10010\":{}, # sprint name\n",
    "       \"summary\": {},\n",
    "       \"issuetype\": {\n",
    "          \"name\": \"Epic\"\n",
    "       }\n",
    "   }\n",
    "}\n",
    "\n",
    "\n",
    "headers = { 'Content-Type': 'application/json'}\n",
    "\n",
    "def prepare_jiras(key, name):\n",
    "    epics = []\n",
    "    for app in APPS:\n",
    "        sprint_app = \"{}{}\".format(key, app)  # S9DR\n",
    "        epics.append(\n",
    "            EPIC(name=sprint_app,\n",
    "                 summary=\"{} - release\".format(sprint_app),\n",
    "                 sprint=name\n",
    "                )\n",
    "        )\n",
    "    \n",
    "    for epic in epics:\n",
    "        data = EPIC_TEMPLATE.copy()\n",
    "        data['fields']['customfield_10005'] = epic.name\n",
    "        data['fields']['customfield_10010'] = epic.sprint\n",
    "        data['fields']['summary'] = epic.summary\n",
    "        \n",
    "        print (data)\n",
    "        \n",
    "        res = requests.post(\n",
    "            url=\"https://tendercuts.atlassian.net/rest/api/2/issue/\",\n",
    "            auth=(\"varun@tendercuts.in\", \"DqPozVubP4[ohV\"),\n",
    "            headers=headers,\n",
    "            data=json.dumps(data)\n",
    "        )\n",
    "\n",
    "        print (res.__dict__)\n",
    "\n",
    "prepare_jiras(\"S9\", 12)"
   ]
  }
 ],
 "metadata": {
  "kernelspec": {
   "display_name": "Python 2",
   "language": "python",
   "name": "python2"
  },
  "language_info": {
   "codemirror_mode": {
    "name": "ipython",
    "version": 2
   },
   "file_extension": ".py",
   "mimetype": "text/x-python",
   "name": "python",
   "nbconvert_exporter": "python",
   "pygments_lexer": "ipython2",
   "version": "2.7.10"
  }
 },
 "nbformat": 4,
 "nbformat_minor": 1
}
