{
 "cells": [
  {
   "cell_type": "code",
   "execution_count": 2,
   "metadata": {
    "collapsed": true
   },
   "outputs": [],
   "source": [
    "import juspay\n",
    "from django.conf import settings\n",
    "juspay.api_key = settings.PAYMENT['JUSPAY']['id']\n",
    "juspay.environment = settings.PAYMENT['JUSPAY']['environment']\n",
    "merchant_id = settings.PAYMENT['JUSPAY']['merchant_id']"
   ]
  },
  {
   "cell_type": "code",
   "execution_count": 36,
   "metadata": {},
   "outputs": [
    {
     "ename": "InvalidRequestException",
     "evalue": "\nERROR - Request failed with httpResponseCode : 400\n{\n  \"status\": \"Invalid Request\",\n  \"error_code\": \"FAILED\",\n  \"error_message\": \"Invalid Authorization\"\n}\nRequest Parameters : {'customer_id': 'juspay_99999', 'command': 'authenticate', 'gateway': 'PAYTM'}",
     "output_type": "error",
     "traceback": [
      "\u001b[0;31m---------------------------------------------------------------------------\u001b[0m",
      "\u001b[0;31mInvalidRequestException\u001b[0m                   Traceback (most recent call last)",
      "\u001b[0;32m<ipython-input-36-c1e44e95e784>\u001b[0m in \u001b[0;36m<module>\u001b[0;34m()\u001b[0m\n\u001b[1;32m      9\u001b[0m \u001b[0mjuspay\u001b[0m\u001b[0;34m.\u001b[0m\u001b[0mWallets\u001b[0m\u001b[0;34m.\u001b[0m\u001b[0mlist\u001b[0m\u001b[0;34m(\u001b[0m\u001b[0mcustomer_id\u001b[0m\u001b[0;34m=\u001b[0m\u001b[0mcustomer_id\u001b[0m\u001b[0;34m)\u001b[0m\u001b[0;34m\u001b[0m\u001b[0m\n\u001b[1;32m     10\u001b[0m juspay.Wallets.create_and_authenticate(\n\u001b[0;32m---> 11\u001b[0;31m     customer_id=customer_id, gateway=\"PAYTM\")\n\u001b[0m",
      "\u001b[0;32m/Users/varunpasad/django/lib/python2.7/site-packages/juspay/Wallets.pyc\u001b[0m in \u001b[0;36mcreate_and_authenticate\u001b[0;34m(**kwargs)\u001b[0m\n\u001b[1;32m     44\u001b[0m         \u001b[0mkwargs\u001b[0m\u001b[0;34m[\u001b[0m\u001b[0;34m'command'\u001b[0m\u001b[0;34m]\u001b[0m \u001b[0;34m=\u001b[0m \u001b[0;34m'authenticate'\u001b[0m\u001b[0;34m\u001b[0m\u001b[0m\n\u001b[1;32m     45\u001b[0m \u001b[0;34m\u001b[0m\u001b[0m\n\u001b[0;32m---> 46\u001b[0;31m         \u001b[0mresponse\u001b[0m \u001b[0;34m=\u001b[0m \u001b[0mutil\u001b[0m\u001b[0;34m.\u001b[0m\u001b[0mrequest\u001b[0m\u001b[0;34m(\u001b[0m\u001b[0mmethod\u001b[0m\u001b[0;34m,\u001b[0m \u001b[0murl\u001b[0m\u001b[0;34m,\u001b[0m \u001b[0mkwargs\u001b[0m\u001b[0;34m)\u001b[0m\u001b[0;34m.\u001b[0m\u001b[0mjson\u001b[0m\u001b[0;34m(\u001b[0m\u001b[0;34m)\u001b[0m\u001b[0;34m\u001b[0m\u001b[0m\n\u001b[0m\u001b[1;32m     47\u001b[0m         \u001b[0mwallet\u001b[0m \u001b[0;34m=\u001b[0m \u001b[0mWallets\u001b[0m\u001b[0;34m.\u001b[0m\u001b[0mWallet\u001b[0m\u001b[0;34m(\u001b[0m\u001b[0mresponse\u001b[0m\u001b[0;34m)\u001b[0m\u001b[0;34m\u001b[0m\u001b[0m\n\u001b[1;32m     48\u001b[0m         \u001b[0;32mreturn\u001b[0m \u001b[0mwallet\u001b[0m\u001b[0;34m\u001b[0m\u001b[0m\n",
      "\u001b[0;32m/Users/varunpasad/django/lib/python2.7/site-packages/juspay/util.pyc\u001b[0m in \u001b[0;36mrequest\u001b[0;34m(method, url, parameters)\u001b[0m\n\u001b[1;32m     41\u001b[0m             \u001b[0;32mreturn\u001b[0m \u001b[0mresponse\u001b[0m\u001b[0;34m\u001b[0m\u001b[0m\n\u001b[1;32m     42\u001b[0m         \u001b[0;32melif\u001b[0m \u001b[0mresponse\u001b[0m\u001b[0;34m.\u001b[0m\u001b[0mstatus_code\u001b[0m \u001b[0;32min\u001b[0m \u001b[0;34m[\u001b[0m\u001b[0;36m400\u001b[0m\u001b[0;34m,\u001b[0m\u001b[0;36m404\u001b[0m\u001b[0;34m]\u001b[0m\u001b[0;34m:\u001b[0m\u001b[0;34m\u001b[0m\u001b[0m\n\u001b[0;32m---> 43\u001b[0;31m             \u001b[0;32mraise\u001b[0m \u001b[0mInvalidRequestException\u001b[0m\u001b[0;34m(\u001b[0m\u001b[0mjson_body\u001b[0m\u001b[0;34m=\u001b[0m\u001b[0mresponse\u001b[0m\u001b[0;34m.\u001b[0m\u001b[0mcontent\u001b[0m\u001b[0;34m,\u001b[0m \u001b[0mhttp_status\u001b[0m\u001b[0;34m=\u001b[0m\u001b[0mresponse\u001b[0m\u001b[0;34m.\u001b[0m\u001b[0mstatus_code\u001b[0m\u001b[0;34m,\u001b[0m \u001b[0mrequest_params\u001b[0m\u001b[0;34m=\u001b[0m\u001b[0mparameters\u001b[0m\u001b[0;34m)\u001b[0m\u001b[0;34m\u001b[0m\u001b[0m\n\u001b[0m\u001b[1;32m     44\u001b[0m         \u001b[0;32melif\u001b[0m \u001b[0mresponse\u001b[0m\u001b[0;34m.\u001b[0m\u001b[0mstatus_code\u001b[0m \u001b[0;34m==\u001b[0m \u001b[0;36m401\u001b[0m\u001b[0;34m:\u001b[0m\u001b[0;34m\u001b[0m\u001b[0m\n\u001b[1;32m     45\u001b[0m             \u001b[0;32mraise\u001b[0m \u001b[0mAuthenticationException\u001b[0m\u001b[0;34m(\u001b[0m\u001b[0mjson_body\u001b[0m\u001b[0;34m=\u001b[0m\u001b[0mresponse\u001b[0m\u001b[0;34m.\u001b[0m\u001b[0mcontent\u001b[0m\u001b[0;34m,\u001b[0m \u001b[0mhttp_status\u001b[0m\u001b[0;34m=\u001b[0m\u001b[0mresponse\u001b[0m\u001b[0;34m.\u001b[0m\u001b[0mstatus_code\u001b[0m\u001b[0;34m,\u001b[0m \u001b[0mrequest_params\u001b[0m\u001b[0;34m=\u001b[0m\u001b[0mparameters\u001b[0m\u001b[0;34m)\u001b[0m\u001b[0;34m\u001b[0m\u001b[0m\n",
      "\u001b[0;31mInvalidRequestException\u001b[0m: \nERROR - Request failed with httpResponseCode : 400\n{\n  \"status\": \"Invalid Request\",\n  \"error_code\": \"FAILED\",\n  \"error_message\": \"Invalid Authorization\"\n}\nRequest Parameters : {'customer_id': 'juspay_99999', 'command': 'authenticate', 'gateway': 'PAYTM'}"
     ]
    }
   ],
   "source": [
    "customer_id = \"juspay_99999\"\n",
    "# cust = juspay.Customers.create(\n",
    "#     # neeed to be 8 chars\n",
    "#     object_reference_id=\"juspay_99999\",\n",
    "#     email_address='mail@varun.xyz',\n",
    "#     mobile_number=9908765678,\n",
    "#     first_name=\"Varun\",\n",
    "#     last_name='')   # last name in mandatory\n",
    "juspay.Wallets.list(customer_id=customer_id)\n",
    "juspay.Wallets.create_and_authenticate(\n",
    "    customer_id=customer_id, gateway=\"PAYTM\")"
   ]
  },
  {
   "cell_type": "code",
   "execution_count": 16,
   "metadata": {},
   "outputs": [
    {
     "data": {
      "text/plain": [
       "<juspay.Cards.Card instance at 0x107c4cc68>"
      ]
     },
     "execution_count": 16,
     "metadata": {},
     "output_type": "execute_result"
    }
   ],
   "source": [
    "customer_id = \"juspay_18963\"\n",
    "cards = juspay.Cards.list(customer_id=customer_id)\n",
    "juspay.Cards.delete(card_token=cards[0].token)\n",
    "\n",
    "# juspay.Cards.create(\n",
    "#             merchant_id=merchant_id,\n",
    "#             customer_id=customer_id,\n",
    "#             customer_email='mail@varun.xyz',\n",
    "#             card_number=\"4386280025389796\",\n",
    "#             card_exp_year='2017',\n",
    "#             card_exp_month='12'\n",
    "#         )\n"
   ]
  }
 ],
 "metadata": {
  "kernelspec": {
   "display_name": "Django Shell-Plus",
   "language": "python",
   "name": "django_extensions"
  },
  "language_info": {
   "codemirror_mode": {
    "name": "ipython",
    "version": 2
   },
   "file_extension": ".py",
   "mimetype": "text/x-python",
   "name": "python",
   "nbconvert_exporter": "python",
   "pygments_lexer": "ipython2",
   "version": "2.7.10"
  }
 },
 "nbformat": 4,
 "nbformat_minor": 2
}
