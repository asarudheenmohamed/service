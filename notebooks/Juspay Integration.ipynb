{
 "cells": [
  {
   "cell_type": "code",
   "execution_count": 24,
   "metadata": {},
   "outputs": [
    {
     "data": {
      "text/plain": [
       "'sandbox'"
      ]
     },
     "execution_count": 24,
     "metadata": {},
     "output_type": "execute_result"
    }
   ],
   "source": [
    "import juspay\n",
    "from django.conf import settings\n",
    "juspay.api_key = settings.PAYMENT['JUSPAY']['id']\n",
    "juspay.environment = settings.PAYMENT['JUSPAY']['environment']\n",
    "merchant_id = settings.PAYMENT['JUSPAY']['merchant_id']\n",
    "settings.PAYMENT['JUSPAY']['environment']"
   ]
  },
  {
   "cell_type": "code",
   "execution_count": null,
   "metadata": {},
   "outputs": [],
   "source": [
    "# wallets\n",
    "customer_id = \"juspay_99999\"\n",
    "# cust = juspay.Customers.create(\n",
    "#     # neeed to be 8 chars\n",
    "#     object_reference_id=\"juspay_99999\",\n",
    "#     email_address='mail@varun.xyz',\n",
    "#     mobile_number=9908765678,\n",
    "#     first_name=\"Varun\",\n",
    "#     last_name='')   # last name in mandatory\n",
    "\n",
    "# juspay.Wallets.list(customer_id=customer_id)[0].__dict__\n",
    "# juspay.Wallets.create(\n",
    "#     customer_id=customer_id, gateway=\"PAYTM\", command=\"authenticate\").__dict__"
   ]
  },
  {
   "cell_type": "code",
   "execution_count": 50,
   "metadata": {},
   "outputs": [
    {
     "data": {
      "text/plain": [
       "{'method': u'GET',\n",
       " 'params': None,\n",
       " 'url': u'https://sandbox.juspay.in/pay/start/tendercuts/ut0f1mwf30hb4z0o'}"
      ]
     },
     "execution_count": 50,
     "metadata": {},
     "output_type": "execute_result"
    }
   ],
   "source": [
    "jp_order = juspay.Orders.create(\n",
    "    order_id=\"123456\",\n",
    "    amount=\"100\",\n",
    "    currency='INR',\n",
    "    # not ID but object reference ID which is juspay_18963 ID\n",
    "    customer_id=\"juspay_9999\",\n",
    "    customer_email='mail@varun.xyz',\n",
    "    customer_phone=9908765678,\n",
    "    # RZP needs a fucking description field\n",
    "    description=\"123\")\n",
    "\n",
    "juspay.Payments.create_wallet_payment(\n",
    "                order_id='123456',\n",
    "                merchant_id=\"tendercuts\",\n",
    "                payment_method_type=\"WALLET\",\n",
    "                payment_method='PAYTM',\n",
    "                redirect_after_payment=False,\n",
    "                ).__dict__['payment'].__dict__['authentication'].__dict__"
   ]
  },
  {
   "cell_type": "code",
   "execution_count": 16,
   "metadata": {},
   "outputs": [
    {
     "data": {
      "text/plain": [
       "<juspay.Cards.Card instance at 0x107c4cc68>"
      ]
     },
     "execution_count": 16,
     "metadata": {},
     "output_type": "execute_result"
    }
   ],
   "source": [
    "customer_id = \"juspay_18963\"\n",
    "cards = juspay.Cards.list(customer_id=customer_id)\n",
    "juspay.Cards.delete(card_token=cards[0].token)\n",
    "\n",
    "# juspay.Cards.create(\n",
    "#             merchant_id=merchant_id,\n",
    "#             customer_id=customer_id,\n",
    "#             customer_email='mail@varun.xyz',\n",
    "#             card_number=\"4386280025389796\",\n",
    "#             card_exp_year='2017',\n",
    "#             card_exp_month='12'\n",
    "#         )\n"
   ]
  }
 ],
 "metadata": {
  "kernelspec": {
   "display_name": "Django Shell-Plus",
   "language": "python",
   "name": "django_extensions"
  },
  "language_info": {
   "codemirror_mode": {
    "name": "ipython",
    "version": 2
   },
   "file_extension": ".py",
   "mimetype": "text/x-python",
   "name": "python",
   "nbconvert_exporter": "python",
   "pygments_lexer": "ipython2",
   "version": "2.7.10"
  }
 },
 "nbformat": 4,
 "nbformat_minor": 2
}
