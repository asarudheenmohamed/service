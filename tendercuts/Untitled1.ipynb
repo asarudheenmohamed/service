{
 "metadata": {
  "name": "",
  "signature": "sha256:3969254f0fb5e7432122d03c927f39cba9ee7fc5766d733097c769229622e7f1"
 },
 "nbformat": 3,
 "nbformat_minor": 0,
 "worksheets": [
  {
   "cells": [
    {
     "cell_type": "code",
     "collapsed": false,
     "input": [
      "import MySQLdb\n",
      "import pandas as pd\n",
      "\n",
      "class DB(object):\n",
      "    def __init__(self, test=False):\n",
      "        # Open database connection\n",
      "#         self.db = MySQLdb.connect(\n",
      "#                 \"localhost\",\n",
      "#                 \"root\",\n",
      "#                 \"root\",\n",
      "#                 \"dbmaster\")\n",
      "        self.db = MySQLdb.connect(\n",
      "                \"127.0.0.1\",\n",
      "                \"tcuser\",\n",
      "                \"oochahwielai9mahDah3\",\n",
      "                \"v2\",\n",
      "                port=3307)\n",
      "\n",
      "    def to_table(self, sql):\n",
      "        cursor = self.db.cursor()\n",
      "\n",
      "        try:\n",
      "           # Execute the SQL command\n",
      "           cursor.execute(sql)\n",
      "           df = pd.read_sql(sql,  con=self.db)\n",
      "        except Exception as e:\n",
      "           print \"Error: unable to fecth data\"\n",
      "           print (e)\n",
      "\n",
      "        # disconnect from server\n",
      "\n",
      "        return df\n",
      "\n",
      "    def close(self):\n",
      "        self.db.close()"
     ],
     "language": "python",
     "metadata": {},
     "outputs": [],
     "prompt_number": 11
    },
    {
     "cell_type": "code",
     "collapsed": false,
     "input": [
      "db_conn = DB()\n",
      "\n",
      "db_conn.to_table(\"select sku from catalog_product_entity\").to_csv('~/catalog.csv')"
     ],
     "language": "python",
     "metadata": {},
     "outputs": [],
     "prompt_number": 12
    },
    {
     "cell_type": "code",
     "collapsed": false,
     "input": [
      "\n"
     ],
     "language": "python",
     "metadata": {},
     "outputs": []
    }
   ],
   "metadata": {}
  }
 ]
}