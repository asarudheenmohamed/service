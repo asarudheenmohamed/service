{
 "metadata": {
  "name": "",
  "signature": "sha256:57057977a25e677150304dd21581d6cd01855e2377e82f31fe902d03dee13bfa"
 },
 "nbformat": 3,
 "nbformat_minor": 0,
 "worksheets": [
  {
   "cells": [
    {
     "cell_type": "code",
     "collapsed": false,
     "input": [
      "import pandas as pd\n",
      "from app.core.models import CoreStore, AitocCataloginventoryStockItem"
     ],
     "language": "python",
     "metadata": {},
     "outputs": []
    },
    {
     "cell_type": "code",
     "collapsed": false,
     "input": [
      "df = pd.read_excel(\n",
      "    \"/Users/varunpasad/Desktop/test.xlsx\",\n",
      "    skiprows=[0,1, 2, 3],\n",
      ")\n",
      "\n",
      "df = df.fillna(0)\n",
      "\n",
      "# Ignore all row with now PID\n",
      "# and format it and set it as index\n",
      "df = df[df.PID != 0]\n",
      "df.PID = df.PID.astype(int)\n",
      "df = df.set_index(\"PID\")\n",
      "\n",
      "# Drop useless columns\n",
      "ignore_cols = [\"PRODUCT\", \"UNITS\", \"SKU WT\", \"Unnamed: 4\"]\n",
      "df.drop(ignore_cols, axis=1, inplace=True)\n",
      "\n",
      "    \n"
     ],
     "language": "python",
     "metadata": {},
     "outputs": []
    },
    {
     "cell_type": "code",
     "collapsed": false,
     "input": [
      "df"
     ],
     "language": "python",
     "metadata": {},
     "outputs": []
    },
    {
     "cell_type": "code",
     "collapsed": false,
     "input": [
      "store_cache = {store.website_id: store for store in CoreStore.objects.all()}\n",
      "inventories = AitocCataloginventoryStockItem.objects.all().select_related('product')\n",
      "\n",
      "df = df.astype(int)\n",
      "for inventory in inventories:\n",
      "#     inventory.qty = df[inventory.product, ]\n",
      "    try:\n",
      "        store = store_cache[inventory.website_id]\n",
      "        qty = df.ix[inventory.product.entity_id, store.name]\n",
      "        closing = df.ix[inventory.product.entity_id, store.name + \".1\"]\n",
      "        inventory.qty = qty + closing\n",
      "        inventory.save()\n",
      "    except KeyError as e:\n",
      "        print (\"No inv found for {} for {}\".format(inventory.product.sku, store.name))\n",
      "\n",
      "\n",
      "# for store_name in stores:\n",
      "#     store = store_objs.filter(name=store_name.lower())\n",
      "\n",
      "#     if not store:\n",
      "#         print (\"Cant find store for {}\".format(store_name))\n",
      "#     print store.name\n",
      "    \n",
      "    \n",
      "\n",
      "# for store in stores:\n",
      "#     processed = df[store].astype(int)\n",
      "#     closing = df[store + '.1'].astype(int)\n",
      "#     total = processed + closing\n",
      "    "
     ],
     "language": "python",
     "metadata": {},
     "outputs": []
    },
    {
     "cell_type": "code",
     "collapsed": false,
     "input": [
      "def print_row(row):\n",
      "    print (row)\n",
      "    print (\"====\")\n",
      "\n",
      "xx = df['Adyar']\n",
      "for product_id, qty in xx.iteritems():\n",
      "    print product_id, qty\n",
      "    \n",
      "class InvetoryProcess():"
     ],
     "language": "python",
     "metadata": {},
     "outputs": []
    },
    {
     "cell_type": "code",
     "collapsed": false,
     "input": [
      "import datetime\n",
      "import pytz\n",
      "from app.core import models as core_models\n",
      "end =  datetime.datetime.now(tz=pytz.timezone('Asia/Kolkata'))\n",
      "start = end - datetime.timedelta(seconds=30*60)\n",
      "\n",
      "order = core_models.SalesFlatOrder.objects.filter(\n",
      "    status='pending_payment',\n",
      "    created_at__range=[start, end]\n",
      ").prefetch_related('payment')[0]\n",
      "\n",
      "order.payment.first().method"
     ],
     "language": "python",
     "metadata": {},
     "outputs": [
      {
       "metadata": {},
       "output_type": "pyout",
       "prompt_number": 52,
       "text": [
        "u'payubiz'"
       ]
      }
     ],
     "prompt_number": 52
    },
    {
     "cell_type": "code",
     "collapsed": false,
     "input": [
      "from app.core.lib import magento\n",
      "\n",
      "# mage = magento.Connector()\n",
      "\n",
      "# mage.api.customer.create({\"mobilenumber\": \"9988776655\",\n",
      "# 'firstname': \"Boo\", \"lastname\": \"Voo\", \"email\": \"boo@voo1.com\", \"password\": \"123456\", \"website_id\": 1, \"store_id\": 1, \"group_id\": 1})\n",
      "\n",
      "\n",
      "import random\n",
      "import uuid\n",
      "phno = random.randint(1000000000, 2000000000)\n",
      "email = \"{}@email.com\".format(uuid.uuid4())\n",
      "\n"
     ],
     "language": "python",
     "metadata": {},
     "outputs": [
      {
       "metadata": {},
       "output_type": "pyout",
       "prompt_number": 17,
       "text": [
        "'50df3899-9b95-44e8-b2bc-a4e82be27d50@email.com'"
       ]
      }
     ],
     "prompt_number": 17
    }
   ],
   "metadata": {}
  }
 ]
}